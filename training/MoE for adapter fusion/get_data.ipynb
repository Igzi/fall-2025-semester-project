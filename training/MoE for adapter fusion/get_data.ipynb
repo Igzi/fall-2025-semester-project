{
 "cells": [
  {
   "cell_type": "code",
   "execution_count": null,
   "id": "d73398ec",
   "metadata": {},
   "outputs": [
    {
     "data": {
      "application/vnd.jupyter.widget-view+json": {
       "model_id": "204978ded4da4dd2a05b1db04df4ca6a",
       "version_major": 2,
       "version_minor": 0
      },
      "text/plain": [
       "Resolving data files:   0%|          | 0/66 [00:00<?, ?it/s]"
      ]
     },
     "metadata": {},
     "output_type": "display_data"
    },
    {
     "data": {
      "application/vnd.jupyter.widget-view+json": {
       "model_id": "335f33f7afd64b3da209039f1a358a89",
       "version_major": 2,
       "version_minor": 0
      },
      "text/plain": [
       "Resolving data files:   0%|          | 0/66 [00:00<?, ?it/s]"
      ]
     },
     "metadata": {},
     "output_type": "display_data"
    },
    {
     "data": {
      "application/vnd.jupyter.widget-view+json": {
       "model_id": "9543f718afba4715ab8a745d013f2eab",
       "version_major": 2,
       "version_minor": 0
      },
      "text/plain": [
       "Resolving data files:   0%|          | 0/66 [00:00<?, ?it/s]"
      ]
     },
     "metadata": {},
     "output_type": "display_data"
    },
    {
     "data": {
      "application/vnd.jupyter.widget-view+json": {
       "model_id": "88f1d72f123b45178111387592dbf29b",
       "version_major": 2,
       "version_minor": 0
      },
      "text/plain": [
       "Downloading data:   0%|          | 0/66 [00:00<?, ?files/s]"
      ]
     },
     "metadata": {},
     "output_type": "display_data"
    },
    {
     "data": {
      "application/vnd.jupyter.widget-view+json": {
       "model_id": "ddf974f4615649ffabd4d87572b3fcb7",
       "version_major": 2,
       "version_minor": 0
      },
      "text/plain": [
       "cola_10templates_train.jsonl:   0%|          | 0.00/1.82M [00:00<?, ?B/s]"
      ]
     },
     "metadata": {},
     "output_type": "display_data"
    },
    {
     "data": {
      "application/vnd.jupyter.widget-view+json": {
       "model_id": "78997dc434c14dc4a6467fad8a6d2be7",
       "version_major": 2,
       "version_minor": 0
      },
      "text/plain": [
       "arc_easy_10templates_train.jsonl:   0%|          | 0.00/637k [00:00<?, ?B/s]"
      ]
     },
     "metadata": {},
     "output_type": "display_data"
    },
    {
     "data": {
      "application/vnd.jupyter.widget-view+json": {
       "model_id": "f9a8e9550b76473e859e8540b4c14d7a",
       "version_major": 2,
       "version_minor": 0
      },
      "text/plain": [
       "coqa_10templates_train.jsonl:   0%|          | 0.00/17.8M [00:00<?, ?B/s]"
      ]
     },
     "metadata": {},
     "output_type": "display_data"
    },
    {
     "data": {
      "application/vnd.jupyter.widget-view+json": {
       "model_id": "36422e0197574704a07d5a402c46feda",
       "version_major": 2,
       "version_minor": 0
      },
      "text/plain": [
       "cb_10templates_train.jsonl:   0%|          | 0.00/96.7k [00:00<?, ?B/s]"
      ]
     },
     "metadata": {},
     "output_type": "display_data"
    },
    {
     "data": {
      "application/vnd.jupyter.widget-view+json": {
       "model_id": "949adba65046434d82308b71930b084f",
       "version_major": 2,
       "version_minor": 0
      },
      "text/plain": [
       "arc_challenge_10templates_train.jsonl:   0%|          | 0.00/325k [00:00<?, ?B/s]"
      ]
     },
     "metadata": {},
     "output_type": "display_data"
    },
    {
     "data": {
      "application/vnd.jupyter.widget-view+json": {
       "model_id": "87ef3ad5d5f047f99a2157405814d9d8",
       "version_major": 2,
       "version_minor": 0
      },
      "text/plain": [
       "copa_10templates_train.jsonl:   0%|          | 0.00/74.9k [00:00<?, ?B/s]"
      ]
     },
     "metadata": {},
     "output_type": "display_data"
    },
    {
     "data": {
      "application/vnd.jupyter.widget-view+json": {
       "model_id": "f79e04a0e9ea42998681747411f2b0b4",
       "version_major": 2,
       "version_minor": 0
      },
      "text/plain": [
       "common_gen_10templates_train.jsonl:   0%|          | 0.00/6.19M [00:00<?, ?B/s]"
      ]
     },
     "metadata": {},
     "output_type": "display_data"
    },
    {
     "data": {
      "application/vnd.jupyter.widget-view+json": {
       "model_id": "4ea5026076954a538ce48ce270332ba8",
       "version_major": 2,
       "version_minor": 0
      },
      "text/plain": [
       "anli_r2_10templates_train.jsonl:   0%|          | 0.00/17.2M [00:00<?, ?B/s]"
      ]
     },
     "metadata": {},
     "output_type": "display_data"
    },
    {
     "data": {
      "application/vnd.jupyter.widget-view+json": {
       "model_id": "ca5034b557f14be7abeff91ab78eed10",
       "version_major": 2,
       "version_minor": 0
      },
      "text/plain": [
       "anli_r1_10templates_train.jsonl:   0%|          | 0.00/9.77M [00:00<?, ?B/s]"
      ]
     },
     "metadata": {},
     "output_type": "display_data"
    },
    {
     "data": {
      "application/vnd.jupyter.widget-view+json": {
       "model_id": "85e42358572d47829f2609b496691de2",
       "version_major": 2,
       "version_minor": 0
      },
      "text/plain": [
       "aeslc_10templates_train.jsonl:   0%|          | 0.00/13.4M [00:00<?, ?B/s]"
      ]
     },
     "metadata": {},
     "output_type": "display_data"
    },
    {
     "data": {
      "application/vnd.jupyter.widget-view+json": {
       "model_id": "31b38962baab4e02b6794b85393a9c4f",
       "version_major": 2,
       "version_minor": 0
      },
      "text/plain": [
       "bool_q_10templates_train.jsonl:   0%|          | 0.00/6.85M [00:00<?, ?B/s]"
      ]
     },
     "metadata": {},
     "output_type": "display_data"
    },
    {
     "data": {
      "application/vnd.jupyter.widget-view+json": {
       "model_id": "912cebafbc674072b2df0397ce53566b",
       "version_major": 2,
       "version_minor": 0
      },
      "text/plain": [
       "dart_10templates_train.jsonl:   0%|          | 0.00/10.7M [00:00<?, ?B/s]"
      ]
     },
     "metadata": {},
     "output_type": "display_data"
    },
    {
     "data": {
      "application/vnd.jupyter.widget-view+json": {
       "model_id": "9cd6044fbbf94682bc17533e480918df",
       "version_major": 2,
       "version_minor": 0
      },
      "text/plain": [
       "ag_news_subset_10templates_train.jsonl:   0%|          | 0.00/11.0M [00:00<?, ?B/s]"
      ]
     },
     "metadata": {},
     "output_type": "display_data"
    },
    {
     "data": {
      "application/vnd.jupyter.widget-view+json": {
       "model_id": "9f2da7118fb141d7a53cb4306c3edb3b",
       "version_major": 2,
       "version_minor": 0
      },
      "text/plain": [
       "anli_r3_10templates_train.jsonl:   0%|          | 0.00/16.5M [00:00<?, ?B/s]"
      ]
     },
     "metadata": {},
     "output_type": "display_data"
    },
    {
     "data": {
      "application/vnd.jupyter.widget-view+json": {
       "model_id": "9829aa6178dc4a33a65b663536121fd2",
       "version_major": 2,
       "version_minor": 0
      },
      "text/plain": [
       "cosmos_qa_10templates_train.jsonl:   0%|          | 0.00/16.1M [00:00<?, ?B/s]"
      ]
     },
     "metadata": {},
     "output_type": "display_data"
    },
    {
     "data": {
      "application/vnd.jupyter.widget-view+json": {
       "model_id": "35d5b2d1880d4b1182a305772a532ae8",
       "version_major": 2,
       "version_minor": 0
      },
      "text/plain": [
       "cnn_dailymail_10templates_train.jsonl:   0%|          | 0.00/104M [00:00<?, ?B/s]"
      ]
     },
     "metadata": {},
     "output_type": "display_data"
    },
    {
     "data": {
      "application/vnd.jupyter.widget-view+json": {
       "model_id": "3b33b0fdb61e464fac95c539fce70f5a",
       "version_major": 2,
       "version_minor": 0
      },
      "text/plain": [
       "(…)onoun_resolution_10templates_train.jsonl:   0%|          | 0.00/281k [00:00<?, ?B/s]"
      ]
     },
     "metadata": {},
     "output_type": "display_data"
    },
    {
     "data": {
      "application/vnd.jupyter.widget-view+json": {
       "model_id": "91abbe194478437f967c4191704df88f",
       "version_major": 2,
       "version_minor": 0
      },
      "text/plain": [
       "drop_10templates_train.jsonl:   0%|          | 0.00/41.2M [00:00<?, ?B/s]"
      ]
     },
     "metadata": {},
     "output_type": "display_data"
    },
    {
     "data": {
      "application/vnd.jupyter.widget-view+json": {
       "model_id": "40b4d506a7af407c8826ac7f59adb252",
       "version_major": 2,
       "version_minor": 0
      },
      "text/plain": [
       "e2e_nlg_10templates_train.jsonl:   0%|          | 0.00/10.8M [00:00<?, ?B/s]"
      ]
     },
     "metadata": {},
     "output_type": "display_data"
    },
    {
     "data": {
      "application/vnd.jupyter.widget-view+json": {
       "model_id": "9658a098735f4374a54f5dad542da985",
       "version_major": 2,
       "version_minor": 0
      },
      "text/plain": [
       "fix_punct_10templates_train.jsonl:   0%|          | 0.00/9.87M [00:00<?, ?B/s]"
      ]
     },
     "metadata": {},
     "output_type": "display_data"
    },
    {
     "data": {
      "application/vnd.jupyter.widget-view+json": {
       "model_id": "946abe08d7b74851aace880def997dfa",
       "version_major": 2,
       "version_minor": 0
      },
      "text/plain": [
       "gigaword_10templates_train.jsonl:   0%|          | 0.00/5.44M [00:00<?, ?B/s]"
      ]
     },
     "metadata": {},
     "output_type": "display_data"
    },
    {
     "data": {
      "application/vnd.jupyter.widget-view+json": {
       "model_id": "18cf67bd5ddb4c9ca523869dc41ab210",
       "version_major": 2,
       "version_minor": 0
      },
      "text/plain": [
       "glue_qqp_10templates_train.jsonl:   0%|          | 0.00/8.05M [00:00<?, ?B/s]"
      ]
     },
     "metadata": {},
     "output_type": "display_data"
    },
    {
     "data": {
      "application/vnd.jupyter.widget-view+json": {
       "model_id": "f1c4c67b5d674cedac99cac97da4af8d",
       "version_major": 2,
       "version_minor": 0
      },
      "text/plain": [
       "hellaswag_10templates_train.jsonl:   0%|          | 0.00/29.8M [00:00<?, ?B/s]"
      ]
     },
     "metadata": {},
     "output_type": "display_data"
    },
    {
     "data": {
      "application/vnd.jupyter.widget-view+json": {
       "model_id": "7a0e27ce5377443b9077f2ff2385eeab",
       "version_major": 2,
       "version_minor": 0
      },
      "text/plain": [
       "glue_mrpc_10templates_train.jsonl:   0%|          | 0.00/1.33M [00:00<?, ?B/s]"
      ]
     },
     "metadata": {},
     "output_type": "display_data"
    },
    {
     "data": {
      "application/vnd.jupyter.widget-view+json": {
       "model_id": "0a93129d9aa94c4b9390589cce3429d3",
       "version_major": 2,
       "version_minor": 0
      },
      "text/plain": [
       "imdb_reviews_10templates_train.jsonl:   0%|          | 0.00/36.1M [00:00<?, ?B/s]"
      ]
     },
     "metadata": {},
     "output_type": "display_data"
    },
    {
     "data": {
      "application/vnd.jupyter.widget-view+json": {
       "model_id": "a91b226616434e88944fbeaa8ef9d150",
       "version_major": 2,
       "version_minor": 0
      },
      "text/plain": [
       "mnli_matched_10templates_train.jsonl:   0%|          | 0.00/11.3M [00:00<?, ?B/s]"
      ]
     },
     "metadata": {},
     "output_type": "display_data"
    },
    {
     "data": {
      "application/vnd.jupyter.widget-view+json": {
       "model_id": "8715b21787bb477984381e38f3c7a24b",
       "version_major": 2,
       "version_minor": 0
      },
      "text/plain": [
       "math_dataset_10templates_train.jsonl:   0%|          | 0.00/3.91M [00:00<?, ?B/s]"
      ]
     },
     "metadata": {},
     "output_type": "display_data"
    },
    {
     "data": {
      "application/vnd.jupyter.widget-view+json": {
       "model_id": "e2b20f18dc3544a0bb5cda1fd77c23ed",
       "version_major": 2,
       "version_minor": 0
      },
      "text/plain": [
       "mnli_mismatched_10templates_train.jsonl:   0%|          | 0.00/11.4M [00:00<?, ?B/s]"
      ]
     },
     "metadata": {},
     "output_type": "display_data"
    },
    {
     "data": {
      "application/vnd.jupyter.widget-view+json": {
       "model_id": "0e5d03f313ce425abceada7d484b3afd",
       "version_major": 2,
       "version_minor": 0
      },
      "text/plain": [
       "multirc_10templates_train.jsonl:   0%|          | 0.00/49.3M [00:00<?, ?B/s]"
      ]
     },
     "metadata": {},
     "output_type": "display_data"
    },
    {
     "data": {
      "application/vnd.jupyter.widget-view+json": {
       "model_id": "6a4ee149cc0f41f89035675c7cf7aa59",
       "version_major": 2,
       "version_minor": 0
      },
      "text/plain": [
       "multi_news_10templates_train.jsonl:   0%|          | 0.00/385M [00:00<?, ?B/s]"
      ]
     },
     "metadata": {},
     "output_type": "display_data"
    },
    {
     "data": {
      "application/vnd.jupyter.widget-view+json": {
       "model_id": "8056eebacb1744c2bafae80ff21b196e",
       "version_major": 2,
       "version_minor": 0
      },
      "text/plain": [
       "(…)atural_questions_10templates_train.jsonl:   0%|          | 0.00/4.63M [00:00<?, ?B/s]"
      ]
     },
     "metadata": {},
     "output_type": "display_data"
    },
    {
     "data": {
      "application/vnd.jupyter.widget-view+json": {
       "model_id": "ed58403c1eec49fd87289afc2a128cb2",
       "version_major": 2,
       "version_minor": 0
      },
      "text/plain": [
       "(…)bstracts_idebate_10templates_train.jsonl:   0%|          | 0.00/1.71M [00:00<?, ?B/s]"
      ]
     },
     "metadata": {},
     "output_type": "display_data"
    },
    {
     "data": {
      "application/vnd.jupyter.widget-view+json": {
       "model_id": "b0037a15a6a142009da3fd0c6f5bcca3",
       "version_major": 2,
       "version_minor": 0
      },
      "text/plain": [
       "openbookqa_10templates_train.jsonl:   0%|          | 0.00/1.40M [00:00<?, ?B/s]"
      ]
     },
     "metadata": {},
     "output_type": "display_data"
    },
    {
     "data": {
      "application/vnd.jupyter.widget-view+json": {
       "model_id": "0e29055eb2b54acfb84960491b7402cc",
       "version_major": 2,
       "version_minor": 0
      },
      "text/plain": [
       "(…)_rotten_tomatoes_10templates_train.jsonl:   0%|          | 0.00/3.97M [00:00<?, ?B/s]"
      ]
     },
     "metadata": {},
     "output_type": "display_data"
    },
    {
     "data": {
      "application/vnd.jupyter.widget-view+json": {
       "model_id": "ea21273f2112463cb1dd6438d2c1087e",
       "version_major": 2,
       "version_minor": 0
      },
      "text/plain": [
       "para_crawl_enes_10templates_train.jsonl:   0%|          | 0.00/10.8M [00:00<?, ?B/s]"
      ]
     },
     "metadata": {},
     "output_type": "display_data"
    },
    {
     "data": {
      "application/vnd.jupyter.widget-view+json": {
       "model_id": "083c34f62e4244b8b24a823dc84ac245",
       "version_major": 2,
       "version_minor": 0
      },
      "text/plain": [
       "paws_wiki_10templates_train.jsonl:   0%|          | 0.00/11.1M [00:00<?, ?B/s]"
      ]
     },
     "metadata": {},
     "output_type": "display_data"
    },
    {
     "data": {
      "application/vnd.jupyter.widget-view+json": {
       "model_id": "b6b3842784294c4f8857fe805324696d",
       "version_major": 2,
       "version_minor": 0
      },
      "text/plain": [
       "piqa_10templates_train.jsonl:   0%|          | 0.00/6.61M [00:00<?, ?B/s]"
      ]
     },
     "metadata": {},
     "output_type": "display_data"
    },
    {
     "data": {
      "application/vnd.jupyter.widget-view+json": {
       "model_id": "d104f22eef8f4dd39ca5564a009432f4",
       "version_major": 2,
       "version_minor": 0
      },
      "text/plain": [
       "qnli_10templates_train.jsonl:   0%|          | 0.00/10.3M [00:00<?, ?B/s]"
      ]
     },
     "metadata": {},
     "output_type": "display_data"
    },
    {
     "data": {
      "application/vnd.jupyter.widget-view+json": {
       "model_id": "3dcd2641d2eb4056bf3e7d039cfc1b8a",
       "version_major": 2,
       "version_minor": 0
      },
      "text/plain": [
       "quac_10templates_train.jsonl:   0%|          | 0.00/92.3M [00:00<?, ?B/s]"
      ]
     },
     "metadata": {},
     "output_type": "display_data"
    },
    {
     "data": {
      "application/vnd.jupyter.widget-view+json": {
       "model_id": "0441c8f0a9b14af1bf0a8471e8c81f92",
       "version_major": 2,
       "version_minor": 0
      },
      "text/plain": [
       "rte_10templates_train.jsonl:   0%|          | 0.00/1.07M [00:00<?, ?B/s]"
      ]
     },
     "metadata": {},
     "output_type": "display_data"
    },
    {
     "data": {
      "application/vnd.jupyter.widget-view+json": {
       "model_id": "f1c7081208714f719033dd22fd89bb8c",
       "version_major": 2,
       "version_minor": 0
      },
      "text/plain": [
       "record_10templates_train.jsonl:   0%|          | 0.00/56.9M [00:00<?, ?B/s]"
      ]
     },
     "metadata": {},
     "output_type": "display_data"
    },
    {
     "data": {
      "application/vnd.jupyter.widget-view+json": {
       "model_id": "c4ddbc8322854904abf575d26c88294f",
       "version_major": 2,
       "version_minor": 0
      },
      "text/plain": [
       "samsum_10templates_train.jsonl:   0%|          | 0.00/10.6M [00:00<?, ?B/s]"
      ]
     },
     "metadata": {},
     "output_type": "display_data"
    },
    {
     "data": {
      "application/vnd.jupyter.widget-view+json": {
       "model_id": "353b301ef31d4b41b8eae925539629b9",
       "version_major": 2,
       "version_minor": 0
      },
      "text/plain": [
       "sentiment140_10templates_train.jsonl:   0%|          | 0.00/6.27M [00:00<?, ?B/s]"
      ]
     },
     "metadata": {},
     "output_type": "display_data"
    },
    {
     "data": {
      "application/vnd.jupyter.widget-view+json": {
       "model_id": "2032b85fc7b34e66b2c399dc237ee3c6",
       "version_major": 2,
       "version_minor": 0
      },
      "text/plain": [
       "snli_10templates_train.jsonl:   0%|          | 0.00/8.10M [00:00<?, ?B/s]"
      ]
     },
     "metadata": {},
     "output_type": "display_data"
    },
    {
     "data": {
      "application/vnd.jupyter.widget-view+json": {
       "model_id": "b52b92bae09b49f0ab5516a5cf7a925a",
       "version_major": 2,
       "version_minor": 0
      },
      "text/plain": [
       "squad_v1_10templates_train.jsonl:   0%|          | 0.00/25.8M [00:00<?, ?B/s]"
      ]
     },
     "metadata": {},
     "output_type": "display_data"
    },
    {
     "data": {
      "application/vnd.jupyter.widget-view+json": {
       "model_id": "a9caf813acb1439cba8c1f5a6a87cb9b",
       "version_major": 2,
       "version_minor": 0
      },
      "text/plain": [
       "squad_v2_10templates_train.jsonl:   0%|          | 0.00/29.8M [00:00<?, ?B/s]"
      ]
     },
     "metadata": {},
     "output_type": "display_data"
    },
    {
     "data": {
      "application/vnd.jupyter.widget-view+json": {
       "model_id": "1aab6740c59241e29528c6240b20caa0",
       "version_major": 2,
       "version_minor": 0
      },
      "text/plain": [
       "sst2_10templates_train.jsonl:   0%|          | 0.00/6.39M [00:00<?, ?B/s]"
      ]
     },
     "metadata": {},
     "output_type": "display_data"
    },
    {
     "data": {
      "application/vnd.jupyter.widget-view+json": {
       "model_id": "387f1b55b3784c77af5fd6e02fd20ee2",
       "version_major": 2,
       "version_minor": 0
      },
      "text/plain": [
       "story_cloze_10templates_train.jsonl:   0%|          | 0.00/693k [00:00<?, ?B/s]"
      ]
     },
     "metadata": {},
     "output_type": "display_data"
    },
    {
     "data": {
      "application/vnd.jupyter.widget-view+json": {
       "model_id": "7dd05246344f4961bb2a7f5d313a6fc4",
       "version_major": 2,
       "version_minor": 0
      },
      "text/plain": [
       "stsb_10templates_train.jsonl:   0%|          | 0.00/1.95M [00:00<?, ?B/s]"
      ]
     },
     "metadata": {},
     "output_type": "display_data"
    },
    {
     "data": {
      "application/vnd.jupyter.widget-view+json": {
       "model_id": "f9d70f27d951432c9cd13009233ff1bd",
       "version_major": 2,
       "version_minor": 0
      },
      "text/plain": [
       "trec_10templates_train.jsonl:   0%|          | 0.00/1.44M [00:00<?, ?B/s]"
      ]
     },
     "metadata": {},
     "output_type": "display_data"
    },
    {
     "data": {
      "application/vnd.jupyter.widget-view+json": {
       "model_id": "23193063a83244f9a645b6b7fd091843",
       "version_major": 2,
       "version_minor": 0
      },
      "text/plain": [
       "trivia_qa_10templates_train.jsonl:   0%|          | 0.00/5.20M [00:00<?, ?B/s]"
      ]
     },
     "metadata": {},
     "output_type": "display_data"
    },
    {
     "data": {
      "application/vnd.jupyter.widget-view+json": {
       "model_id": "7f97ca5e36c2460b8bf9e049f0243faa",
       "version_major": 2,
       "version_minor": 0
      },
      "text/plain": [
       "true_case_10templates_train.jsonl:   0%|          | 0.00/10.3M [00:00<?, ?B/s]"
      ]
     },
     "metadata": {},
     "output_type": "display_data"
    },
    {
     "data": {
      "application/vnd.jupyter.widget-view+json": {
       "model_id": "32072debd7694d97be1b2a35171068eb",
       "version_major": 2,
       "version_minor": 0
      },
      "text/plain": [
       "web_nlg_en_10templates_train.jsonl:   0%|          | 0.00/11.3M [00:00<?, ?B/s]"
      ]
     },
     "metadata": {},
     "output_type": "display_data"
    },
    {
     "data": {
      "application/vnd.jupyter.widget-view+json": {
       "model_id": "a885109cd9154ac6a3c3c8575e64ee57",
       "version_major": 2,
       "version_minor": 0
      },
      "text/plain": [
       "wic_10templates_train.jsonl:   0%|          | 0.00/1.47M [00:00<?, ?B/s]"
      ]
     },
     "metadata": {},
     "output_type": "display_data"
    },
    {
     "data": {
      "application/vnd.jupyter.widget-view+json": {
       "model_id": "d370b64a08c042c4b868cfa3608b47e6",
       "version_major": 2,
       "version_minor": 0
      },
      "text/plain": [
       "(…)ingua_english_en_10templates_train.jsonl:   0%|          | 0.00/73.0M [00:00<?, ?B/s]"
      ]
     },
     "metadata": {},
     "output_type": "display_data"
    },
    {
     "data": {
      "application/vnd.jupyter.widget-view+json": {
       "model_id": "323398219bf04d4eb2ada47b59a5ab53",
       "version_major": 2,
       "version_minor": 0
      },
      "text/plain": [
       "wmt14_enfr_10templates_train.jsonl:   0%|          | 0.00/13.3M [00:00<?, ?B/s]"
      ]
     },
     "metadata": {},
     "output_type": "display_data"
    },
    {
     "data": {
      "application/vnd.jupyter.widget-view+json": {
       "model_id": "f3aad35dcfac4287b573503e52f24ef0",
       "version_major": 2,
       "version_minor": 0
      },
      "text/plain": [
       "(…)6_translate_csen_10templates_train.jsonl:   0%|          | 0.00/7.30M [00:00<?, ?B/s]"
      ]
     },
     "metadata": {},
     "output_type": "display_data"
    },
    {
     "data": {
      "application/vnd.jupyter.widget-view+json": {
       "model_id": "832825f60ea942c3a5bb93f4a8c2a8a0",
       "version_major": 2,
       "version_minor": 0
      },
      "text/plain": [
       "(…)6_translate_fien_10templates_train.jsonl:   0%|          | 0.00/11.7M [00:00<?, ?B/s]"
      ]
     },
     "metadata": {},
     "output_type": "display_data"
    },
    {
     "data": {
      "application/vnd.jupyter.widget-view+json": {
       "model_id": "23d40dab2d914b53928351a33f69db31",
       "version_major": 2,
       "version_minor": 0
      },
      "text/plain": [
       "(…)6_translate_deen_10templates_train.jsonl:   0%|          | 0.00/11.5M [00:00<?, ?B/s]"
      ]
     },
     "metadata": {},
     "output_type": "display_data"
    },
    {
     "data": {
      "application/vnd.jupyter.widget-view+json": {
       "model_id": "7a78fc4dfc4d43b2a80779893b0572a0",
       "version_major": 2,
       "version_minor": 0
      },
      "text/plain": [
       "(…)6_translate_roen_10templates_train.jsonl:   0%|          | 0.00/12.3M [00:00<?, ?B/s]"
      ]
     },
     "metadata": {},
     "output_type": "display_data"
    },
    {
     "data": {
      "application/vnd.jupyter.widget-view+json": {
       "model_id": "1d7512fa92d44d378086c8da77927baa",
       "version_major": 2,
       "version_minor": 0
      },
      "text/plain": [
       "(…)6_translate_ruen_10templates_train.jsonl:   0%|          | 0.00/23.4M [00:00<?, ?B/s]"
      ]
     },
     "metadata": {},
     "output_type": "display_data"
    },
    {
     "data": {
      "application/vnd.jupyter.widget-view+json": {
       "model_id": "9b41aaff07c849379c6d814d21928099",
       "version_major": 2,
       "version_minor": 0
      },
      "text/plain": [
       "(…)6_translate_tren_10templates_train.jsonl:   0%|          | 0.00/12.4M [00:00<?, ?B/s]"
      ]
     },
     "metadata": {},
     "output_type": "display_data"
    },
    {
     "data": {
      "application/vnd.jupyter.widget-view+json": {
       "model_id": "f33b658f4c18443c905f632988d4014f",
       "version_major": 2,
       "version_minor": 0
      },
      "text/plain": [
       "wnli_10templates_train.jsonl:   0%|          | 0.00/168k [00:00<?, ?B/s]"
      ]
     },
     "metadata": {},
     "output_type": "display_data"
    },
    {
     "data": {
      "application/vnd.jupyter.widget-view+json": {
       "model_id": "7cdc2148319642aab1563342381eabb6",
       "version_major": 2,
       "version_minor": 0
      },
      "text/plain": [
       "word_segment_10templates_train.jsonl:   0%|          | 0.00/9.96M [00:00<?, ?B/s]"
      ]
     },
     "metadata": {},
     "output_type": "display_data"
    },
    {
     "data": {
      "application/vnd.jupyter.widget-view+json": {
       "model_id": "b0ceaa4feb6046f89740c3588c17fab0",
       "version_major": 2,
       "version_minor": 0
      },
      "text/plain": [
       "(…)polarity_reviews_10templates_train.jsonl:   0%|          | 0.00/26.2M [00:00<?, ?B/s]"
      ]
     },
     "metadata": {},
     "output_type": "display_data"
    },
    {
     "data": {
      "application/vnd.jupyter.widget-view+json": {
       "model_id": "90ef8f2785ac4dc983d06f6c411284ce",
       "version_major": 2,
       "version_minor": 0
      },
      "text/plain": [
       "wsc_10templates_train.jsonl:   0%|          | 0.00/132k [00:00<?, ?B/s]"
      ]
     },
     "metadata": {},
     "output_type": "display_data"
    },
    {
     "data": {
      "application/vnd.jupyter.widget-view+json": {
       "model_id": "0b22ae73fac244cc96cd6db15bfbeb11",
       "version_major": 2,
       "version_minor": 0
      },
      "text/plain": [
       "Downloading data:   0%|          | 0/66 [00:00<?, ?files/s]"
      ]
     },
     "metadata": {},
     "output_type": "display_data"
    },
    {
     "data": {
      "application/vnd.jupyter.widget-view+json": {
       "model_id": "dfc46db3257347ab9855fb28d57ecc48",
       "version_major": 2,
       "version_minor": 0
      },
      "text/plain": [
       "common_gen_10templates_validation.jsonl:   0%|          | 0.00/40.9k [00:00<?, ?B/s]"
      ]
     },
     "metadata": {},
     "output_type": "display_data"
    },
    {
     "data": {
      "application/vnd.jupyter.widget-view+json": {
       "model_id": "d2b4335e1dc44a2e81cc1d6b6fc57604",
       "version_major": 2,
       "version_minor": 0
      },
      "text/plain": [
       "bool_q_10templates_validation.jsonl:   0%|          | 0.00/148k [00:00<?, ?B/s]"
      ]
     },
     "metadata": {},
     "output_type": "display_data"
    },
    {
     "data": {
      "application/vnd.jupyter.widget-view+json": {
       "model_id": "0af7a77c7df34f9d8e3f8a60a3d863c8",
       "version_major": 2,
       "version_minor": 0
      },
      "text/plain": [
       "cola_10templates_validation.jsonl:   0%|          | 0.00/43.4k [00:00<?, ?B/s]"
      ]
     },
     "metadata": {},
     "output_type": "display_data"
    },
    {
     "data": {
      "application/vnd.jupyter.widget-view+json": {
       "model_id": "2cf75c7ee32b4519b061434f9e35dac6",
       "version_major": 2,
       "version_minor": 0
      },
      "text/plain": [
       "aeslc_10templates_validation.jsonl:   0%|          | 0.00/160k [00:00<?, ?B/s]"
      ]
     },
     "metadata": {},
     "output_type": "display_data"
    },
    {
     "data": {
      "application/vnd.jupyter.widget-view+json": {
       "model_id": "7ac9718934e34227a737eda91276025e",
       "version_major": 2,
       "version_minor": 0
      },
      "text/plain": [
       "cosmos_qa_10templates_validation.jsonl:   0%|          | 0.00/129k [00:00<?, ?B/s]"
      ]
     },
     "metadata": {},
     "output_type": "display_data"
    },
    {
     "data": {
      "application/vnd.jupyter.widget-view+json": {
       "model_id": "f00bd2875bf34ba3a9addbc5c4f5f471",
       "version_major": 2,
       "version_minor": 0
      },
      "text/plain": [
       "dart_10templates_validation.jsonl:   0%|          | 0.00/70.5k [00:00<?, ?B/s]"
      ]
     },
     "metadata": {},
     "output_type": "display_data"
    },
    {
     "data": {
      "application/vnd.jupyter.widget-view+json": {
       "model_id": "ca4ab3a95e6e4d1bbb6032ae3ea450c3",
       "version_major": 2,
       "version_minor": 0
      },
      "text/plain": [
       "(…)n_dailymail_10templates_validation.jsonl:   0%|          | 0.00/885k [00:00<?, ?B/s]"
      ]
     },
     "metadata": {},
     "output_type": "display_data"
    },
    {
     "data": {
      "application/vnd.jupyter.widget-view+json": {
       "model_id": "53b4b5a939fe46a7b575048d53f5c4bc",
       "version_major": 2,
       "version_minor": 0
      },
      "text/plain": [
       "cb_10templates_validation.jsonl:   0%|          | 0.00/27.5k [00:00<?, ?B/s]"
      ]
     },
     "metadata": {},
     "output_type": "display_data"
    },
    {
     "data": {
      "application/vnd.jupyter.widget-view+json": {
       "model_id": "2d4f61ef4cf4404b8b6db1f7ab980997",
       "version_major": 2,
       "version_minor": 0
      },
      "text/plain": [
       "arc_easy_10templates_validation.jsonl:   0%|          | 0.00/58.8k [00:00<?, ?B/s]"
      ]
     },
     "metadata": {},
     "output_type": "display_data"
    },
    {
     "data": {
      "application/vnd.jupyter.widget-view+json": {
       "model_id": "4f87a581fa554d67b3a2b6c758247093",
       "version_major": 2,
       "version_minor": 0
      },
      "text/plain": [
       "anli_r1_10templates_validation.jsonl:   0%|          | 0.00/115k [00:00<?, ?B/s]"
      ]
     },
     "metadata": {},
     "output_type": "display_data"
    },
    {
     "data": {
      "application/vnd.jupyter.widget-view+json": {
       "model_id": "51fef37824864223b0044328e097bac6",
       "version_major": 2,
       "version_minor": 0
      },
      "text/plain": [
       "anli_r2_10templates_validation.jsonl:   0%|          | 0.00/114k [00:00<?, ?B/s]"
      ]
     },
     "metadata": {},
     "output_type": "display_data"
    },
    {
     "data": {
      "application/vnd.jupyter.widget-view+json": {
       "model_id": "4286b9a41b95493689390f19b8a425ba",
       "version_major": 2,
       "version_minor": 0
      },
      "text/plain": [
       "(…)news_subset_10templates_validation.jsonl:   0%|          | 0.00/72.0k [00:00<?, ?B/s]"
      ]
     },
     "metadata": {},
     "output_type": "display_data"
    },
    {
     "data": {
      "application/vnd.jupyter.widget-view+json": {
       "model_id": "167a773a72b14d708d2c01779a81d225",
       "version_major": 2,
       "version_minor": 0
      },
      "text/plain": [
       "(…)c_challenge_10templates_validation.jsonl:   0%|          | 0.00/68.8k [00:00<?, ?B/s]"
      ]
     },
     "metadata": {},
     "output_type": "display_data"
    },
    {
     "data": {
      "application/vnd.jupyter.widget-view+json": {
       "model_id": "be87b096a2fb4c5ab365e77df60bde4d",
       "version_major": 2,
       "version_minor": 0
      },
      "text/plain": [
       "anli_r3_10templates_validation.jsonl:   0%|          | 0.00/111k [00:00<?, ?B/s]"
      ]
     },
     "metadata": {},
     "output_type": "display_data"
    },
    {
     "data": {
      "application/vnd.jupyter.widget-view+json": {
       "model_id": "a2b51a8c4aab4b1e886df90e1a619b82",
       "version_major": 2,
       "version_minor": 0
      },
      "text/plain": [
       "coqa_10templates_validation.jsonl:   0%|          | 0.00/246k [00:00<?, ?B/s]"
      ]
     },
     "metadata": {},
     "output_type": "display_data"
    },
    {
     "data": {
      "application/vnd.jupyter.widget-view+json": {
       "model_id": "54594eb9054242ca9990345d6a50f5b8",
       "version_major": 2,
       "version_minor": 0
      },
      "text/plain": [
       "copa_10templates_validation.jsonl:   0%|          | 0.00/10.9k [00:00<?, ?B/s]"
      ]
     },
     "metadata": {},
     "output_type": "display_data"
    },
    {
     "data": {
      "application/vnd.jupyter.widget-view+json": {
       "model_id": "e23b04bd322c49bc9f0f770e491ca51a",
       "version_major": 2,
       "version_minor": 0
      },
      "text/plain": [
       "(…)_resolution_10templates_validation.jsonl:   0%|          | 0.00/50.3k [00:00<?, ?B/s]"
      ]
     },
     "metadata": {},
     "output_type": "display_data"
    },
    {
     "data": {
      "application/vnd.jupyter.widget-view+json": {
       "model_id": "63f94045bdc74f36b72fec94b490b3c4",
       "version_major": 2,
       "version_minor": 0
      },
      "text/plain": [
       "fix_punct_10templates_validation.jsonl:   0%|          | 0.00/64.6k [00:00<?, ?B/s]"
      ]
     },
     "metadata": {},
     "output_type": "display_data"
    },
    {
     "data": {
      "application/vnd.jupyter.widget-view+json": {
       "model_id": "cac078ef4a36449da813062cc9679259",
       "version_major": 2,
       "version_minor": 0
      },
      "text/plain": [
       "(…)ath_dataset_10templates_validation.jsonl:   0%|          | 0.00/25.9k [00:00<?, ?B/s]"
      ]
     },
     "metadata": {},
     "output_type": "display_data"
    },
    {
     "data": {
      "application/vnd.jupyter.widget-view+json": {
       "model_id": "72751d1f47a74fdb994aa57f41a63692",
       "version_major": 2,
       "version_minor": 0
      },
      "text/plain": [
       "glue_qqp_10templates_validation.jsonl:   0%|          | 0.00/54.3k [00:00<?, ?B/s]"
      ]
     },
     "metadata": {},
     "output_type": "display_data"
    },
    {
     "data": {
      "application/vnd.jupyter.widget-view+json": {
       "model_id": "7b6c1142b08947d1ba13030bc12e2075",
       "version_major": 2,
       "version_minor": 0
      },
      "text/plain": [
       "(…)mdb_reviews_10templates_validation.jsonl:   0%|          | 0.00/281k [00:00<?, ?B/s]"
      ]
     },
     "metadata": {},
     "output_type": "display_data"
    },
    {
     "data": {
      "application/vnd.jupyter.widget-view+json": {
       "model_id": "5103f8f4b3c0435bad513f7922e3eb35",
       "version_major": 2,
       "version_minor": 0
      },
      "text/plain": [
       "e2e_nlg_10templates_validation.jsonl:   0%|          | 0.00/70.2k [00:00<?, ?B/s]"
      ]
     },
     "metadata": {},
     "output_type": "display_data"
    },
    {
     "data": {
      "application/vnd.jupyter.widget-view+json": {
       "model_id": "3a93430805d94fd09dedb3ed5d50207a",
       "version_major": 2,
       "version_minor": 0
      },
      "text/plain": [
       "glue_mrpc_10templates_validation.jsonl:   0%|          | 0.00/77.3k [00:00<?, ?B/s]"
      ]
     },
     "metadata": {},
     "output_type": "display_data"
    },
    {
     "data": {
      "application/vnd.jupyter.widget-view+json": {
       "model_id": "33016eb4bae644538a36e95f78f4691a",
       "version_major": 2,
       "version_minor": 0
      },
      "text/plain": [
       "gigaword_10templates_validation.jsonl:   0%|          | 0.00/34.0k [00:00<?, ?B/s]"
      ]
     },
     "metadata": {},
     "output_type": "display_data"
    },
    {
     "data": {
      "application/vnd.jupyter.widget-view+json": {
       "model_id": "27809b0bb41d454e84b0bcf0a8395246",
       "version_major": 2,
       "version_minor": 0
      },
      "text/plain": [
       "hellaswag_10templates_validation.jsonl:   0%|          | 0.00/203k [00:00<?, ?B/s]"
      ]
     },
     "metadata": {},
     "output_type": "display_data"
    },
    {
     "data": {
      "application/vnd.jupyter.widget-view+json": {
       "model_id": "1eefcc53a89349eb839a3ffe33afa548",
       "version_major": 2,
       "version_minor": 0
      },
      "text/plain": [
       "drop_10templates_validation.jsonl:   0%|          | 0.00/276k [00:00<?, ?B/s]"
      ]
     },
     "metadata": {},
     "output_type": "display_data"
    },
    {
     "data": {
      "application/vnd.jupyter.widget-view+json": {
       "model_id": "dabbe0395c2a4b9fbdedaff05cc83a32",
       "version_major": 2,
       "version_minor": 0
      },
      "text/plain": [
       "(…)nli_matched_10templates_validation.jsonl:   0%|          | 0.00/74.5k [00:00<?, ?B/s]"
      ]
     },
     "metadata": {},
     "output_type": "display_data"
    },
    {
     "data": {
      "application/vnd.jupyter.widget-view+json": {
       "model_id": "27bd45e385694f7baad6903adeddb49f",
       "version_major": 2,
       "version_minor": 0
      },
      "text/plain": [
       "(…)_mismatched_10templates_validation.jsonl:   0%|          | 0.00/75.1k [00:00<?, ?B/s]"
      ]
     },
     "metadata": {},
     "output_type": "display_data"
    },
    {
     "data": {
      "application/vnd.jupyter.widget-view+json": {
       "model_id": "53ab47c759af467f964abf39284388b1",
       "version_major": 2,
       "version_minor": 0
      },
      "text/plain": [
       "multi_news_10templates_validation.jsonl:   0%|          | 0.00/2.69M [00:00<?, ?B/s]"
      ]
     },
     "metadata": {},
     "output_type": "display_data"
    },
    {
     "data": {
      "application/vnd.jupyter.widget-view+json": {
       "model_id": "e0af3fd1883e46ae92390ecfafad302e",
       "version_major": 2,
       "version_minor": 0
      },
      "text/plain": [
       "multirc_10templates_validation.jsonl:   0%|          | 0.00/357k [00:00<?, ?B/s]"
      ]
     },
     "metadata": {},
     "output_type": "display_data"
    },
    {
     "data": {
      "application/vnd.jupyter.widget-view+json": {
       "model_id": "ae4802a4585d47dbb2fcf515761ff442",
       "version_major": 2,
       "version_minor": 0
      },
      "text/plain": [
       "openbookqa_10templates_validation.jsonl:   0%|          | 0.00/58.1k [00:00<?, ?B/s]"
      ]
     },
     "metadata": {},
     "output_type": "display_data"
    },
    {
     "data": {
      "application/vnd.jupyter.widget-view+json": {
       "model_id": "8e4d675de254408485485a1a2350c6b2",
       "version_major": 2,
       "version_minor": 0
      },
      "text/plain": [
       "(…)l_questions_10templates_validation.jsonl:   0%|          | 0.00/30.9k [00:00<?, ?B/s]"
      ]
     },
     "metadata": {},
     "output_type": "display_data"
    },
    {
     "data": {
      "application/vnd.jupyter.widget-view+json": {
       "model_id": "15bfaa06f1e24b148f23f9397b8a46b6",
       "version_major": 2,
       "version_minor": 0
      },
      "text/plain": [
       "(…)cts_idebate_10templates_validation.jsonl:   0%|          | 0.00/104k [00:00<?, ?B/s]"
      ]
     },
     "metadata": {},
     "output_type": "display_data"
    },
    {
     "data": {
      "application/vnd.jupyter.widget-view+json": {
       "model_id": "83666a58b5724222a67f898ec622286c",
       "version_major": 2,
       "version_minor": 0
      },
      "text/plain": [
       "(…)_crawl_enes_10templates_validation.jsonl:   0%|          | 0.00/73.4k [00:00<?, ?B/s]"
      ]
     },
     "metadata": {},
     "output_type": "display_data"
    },
    {
     "data": {
      "application/vnd.jupyter.widget-view+json": {
       "model_id": "cf927b3419014d9bb29dcba7831337fe",
       "version_major": 2,
       "version_minor": 0
      },
      "text/plain": [
       "(…)en_tomatoes_10templates_validation.jsonl:   0%|          | 0.00/129k [00:00<?, ?B/s]"
      ]
     },
     "metadata": {},
     "output_type": "display_data"
    },
    {
     "data": {
      "application/vnd.jupyter.widget-view+json": {
       "model_id": "4ff2fa8008c541368e9b6af84b95f062",
       "version_major": 2,
       "version_minor": 0
      },
      "text/plain": [
       "qnli_10templates_validation.jsonl:   0%|          | 0.00/68.7k [00:00<?, ?B/s]"
      ]
     },
     "metadata": {},
     "output_type": "display_data"
    },
    {
     "data": {
      "application/vnd.jupyter.widget-view+json": {
       "model_id": "f667288a8888425792629d1458f4339e",
       "version_major": 2,
       "version_minor": 0
      },
      "text/plain": [
       "record_10templates_validation.jsonl:   0%|          | 0.00/379k [00:00<?, ?B/s]"
      ]
     },
     "metadata": {},
     "output_type": "display_data"
    },
    {
     "data": {
      "application/vnd.jupyter.widget-view+json": {
       "model_id": "0734d484e4984aa885d9ad57e3a92174",
       "version_major": 2,
       "version_minor": 0
      },
      "text/plain": [
       "rte_10templates_validation.jsonl:   0%|          | 0.00/94.3k [00:00<?, ?B/s]"
      ]
     },
     "metadata": {},
     "output_type": "display_data"
    },
    {
     "data": {
      "application/vnd.jupyter.widget-view+json": {
       "model_id": "a13f95c90fb84d56a1fbe046f0141500",
       "version_major": 2,
       "version_minor": 0
      },
      "text/plain": [
       "paws_wiki_10templates_validation.jsonl:   0%|          | 0.00/74.3k [00:00<?, ?B/s]"
      ]
     },
     "metadata": {},
     "output_type": "display_data"
    },
    {
     "data": {
      "application/vnd.jupyter.widget-view+json": {
       "model_id": "b4f8533e5fac48c6beb98d4d3f1eaccf",
       "version_major": 2,
       "version_minor": 0
      },
      "text/plain": [
       "quac_10templates_validation.jsonl:   0%|          | 0.00/607k [00:00<?, ?B/s]"
      ]
     },
     "metadata": {},
     "output_type": "display_data"
    },
    {
     "data": {
      "application/vnd.jupyter.widget-view+json": {
       "model_id": "ff535dc482b443d0a941fc0304230268",
       "version_major": 2,
       "version_minor": 0
      },
      "text/plain": [
       "samsum_10templates_validation.jsonl:   0%|          | 0.00/137k [00:00<?, ?B/s]"
      ]
     },
     "metadata": {},
     "output_type": "display_data"
    },
    {
     "data": {
      "application/vnd.jupyter.widget-view+json": {
       "model_id": "a2be84252f1b40249e3d6fdc2673df36",
       "version_major": 2,
       "version_minor": 0
      },
      "text/plain": [
       "piqa_10templates_validation.jsonl:   0%|          | 0.00/39.4k [00:00<?, ?B/s]"
      ]
     },
     "metadata": {},
     "output_type": "display_data"
    },
    {
     "data": {
      "application/vnd.jupyter.widget-view+json": {
       "model_id": "da082d43c9a7471f8d540d431fc6da96",
       "version_major": 2,
       "version_minor": 0
      },
      "text/plain": [
       "(…)entiment140_10templates_validation.jsonl:   0%|          | 0.00/42.1k [00:00<?, ?B/s]"
      ]
     },
     "metadata": {},
     "output_type": "display_data"
    },
    {
     "data": {
      "application/vnd.jupyter.widget-view+json": {
       "model_id": "5f3cdb68b80e4b6db6f84fca831d5d42",
       "version_major": 2,
       "version_minor": 0
      },
      "text/plain": [
       "squad_v2_10templates_validation.jsonl:   0%|          | 0.00/193k [00:00<?, ?B/s]"
      ]
     },
     "metadata": {},
     "output_type": "display_data"
    },
    {
     "data": {
      "application/vnd.jupyter.widget-view+json": {
       "model_id": "887921f5fafc45e8b67dd507d36f4bba",
       "version_major": 2,
       "version_minor": 0
      },
      "text/plain": [
       "snli_10templates_validation.jsonl:   0%|          | 0.00/52.3k [00:00<?, ?B/s]"
      ]
     },
     "metadata": {},
     "output_type": "display_data"
    },
    {
     "data": {
      "application/vnd.jupyter.widget-view+json": {
       "model_id": "7df8c09c4a8c48ba9c17b4d1425822c8",
       "version_major": 2,
       "version_minor": 0
      },
      "text/plain": [
       "squad_v1_10templates_validation.jsonl:   0%|          | 0.00/170k [00:00<?, ?B/s]"
      ]
     },
     "metadata": {},
     "output_type": "display_data"
    },
    {
     "data": {
      "application/vnd.jupyter.widget-view+json": {
       "model_id": "e4a34c11ec5e4779bba5727d5bd853f3",
       "version_major": 2,
       "version_minor": 0
      },
      "text/plain": [
       "story_cloze_10templates_validation.jsonl:   0%|          | 0.00/82.4k [00:00<?, ?B/s]"
      ]
     },
     "metadata": {},
     "output_type": "display_data"
    },
    {
     "data": {
      "application/vnd.jupyter.widget-view+json": {
       "model_id": "1bc66cf6d14e49c2a8b8a4a6babaae49",
       "version_major": 2,
       "version_minor": 0
      },
      "text/plain": [
       "sst2_10templates_validation.jsonl:   0%|          | 0.00/42.5k [00:00<?, ?B/s]"
      ]
     },
     "metadata": {},
     "output_type": "display_data"
    },
    {
     "data": {
      "application/vnd.jupyter.widget-view+json": {
       "model_id": "79186d3807b446368c21dd00475df379",
       "version_major": 2,
       "version_minor": 0
      },
      "text/plain": [
       "stsb_10templates_validation.jsonl:   0%|          | 0.00/36.1k [00:00<?, ?B/s]"
      ]
     },
     "metadata": {},
     "output_type": "display_data"
    },
    {
     "data": {
      "application/vnd.jupyter.widget-view+json": {
       "model_id": "c030d89f5c5b409bb6bce8a8db5eebc1",
       "version_major": 2,
       "version_minor": 0
      },
      "text/plain": [
       "(…)_english_en_10templates_validation.jsonl:   0%|          | 0.00/471k [00:00<?, ?B/s]"
      ]
     },
     "metadata": {},
     "output_type": "display_data"
    },
    {
     "data": {
      "application/vnd.jupyter.widget-view+json": {
       "model_id": "42d22156a0b94eff974eae9e5a0ee371",
       "version_major": 2,
       "version_minor": 0
      },
      "text/plain": [
       "web_nlg_en_10templates_validation.jsonl:   0%|          | 0.00/75.8k [00:00<?, ?B/s]"
      ]
     },
     "metadata": {},
     "output_type": "display_data"
    },
    {
     "data": {
      "application/vnd.jupyter.widget-view+json": {
       "model_id": "f411505653d34591a20556365a042445",
       "version_major": 2,
       "version_minor": 0
      },
      "text/plain": [
       "true_case_10templates_validation.jsonl:   0%|          | 0.00/65.6k [00:00<?, ?B/s]"
      ]
     },
     "metadata": {},
     "output_type": "display_data"
    },
    {
     "data": {
      "application/vnd.jupyter.widget-view+json": {
       "model_id": "fc2ad51e5eb241e39aa059d854fe79e6",
       "version_major": 2,
       "version_minor": 0
      },
      "text/plain": [
       "wic_10templates_validation.jsonl:   0%|          | 0.00/56.6k [00:00<?, ?B/s]"
      ]
     },
     "metadata": {},
     "output_type": "display_data"
    },
    {
     "data": {
      "application/vnd.jupyter.widget-view+json": {
       "model_id": "4726a08ba27d46838af3dbda3b974f33",
       "version_major": 2,
       "version_minor": 0
      },
      "text/plain": [
       "(…)nslate_csen_10templates_validation.jsonl:   0%|          | 0.00/63.1k [00:00<?, ?B/s]"
      ]
     },
     "metadata": {},
     "output_type": "display_data"
    },
    {
     "data": {
      "application/vnd.jupyter.widget-view+json": {
       "model_id": "55aa7ad7fcfb4e8fb0e217dbd4207bea",
       "version_major": 2,
       "version_minor": 0
      },
      "text/plain": [
       "(…)nslate_deen_10templates_validation.jsonl:   0%|          | 0.00/63.4k [00:00<?, ?B/s]"
      ]
     },
     "metadata": {},
     "output_type": "display_data"
    },
    {
     "data": {
      "application/vnd.jupyter.widget-view+json": {
       "model_id": "5dbb9ce2789f47d5b6126466e56fa2e8",
       "version_major": 2,
       "version_minor": 0
      },
      "text/plain": [
       "(…)nslate_fien_10templates_validation.jsonl:   0%|          | 0.00/64.1k [00:00<?, ?B/s]"
      ]
     },
     "metadata": {},
     "output_type": "display_data"
    },
    {
     "data": {
      "application/vnd.jupyter.widget-view+json": {
       "model_id": "88ca0b8559024762810f411e29b43606",
       "version_major": 2,
       "version_minor": 0
      },
      "text/plain": [
       "(…)nslate_roen_10templates_validation.jsonl:   0%|          | 0.00/73.6k [00:00<?, ?B/s]"
      ]
     },
     "metadata": {},
     "output_type": "display_data"
    },
    {
     "data": {
      "application/vnd.jupyter.widget-view+json": {
       "model_id": "cfbfa54e4a974d60beb924d563f9be6e",
       "version_major": 2,
       "version_minor": 0
      },
      "text/plain": [
       "(…)nslate_tren_10templates_validation.jsonl:   0%|          | 0.00/73.4k [00:00<?, ?B/s]"
      ]
     },
     "metadata": {},
     "output_type": "display_data"
    },
    {
     "data": {
      "application/vnd.jupyter.widget-view+json": {
       "model_id": "f5d962cb3ccc490cb45e83496eb8c2c5",
       "version_major": 2,
       "version_minor": 0
      },
      "text/plain": [
       "(…)nslate_ruen_10templates_validation.jsonl:   0%|          | 0.00/164k [00:00<?, ?B/s]"
      ]
     },
     "metadata": {},
     "output_type": "display_data"
    },
    {
     "data": {
      "application/vnd.jupyter.widget-view+json": {
       "model_id": "366c29a7f1d345fdb01a978d544fcf33",
       "version_major": 2,
       "version_minor": 0
      },
      "text/plain": [
       "trec_10templates_validation.jsonl:   0%|          | 0.00/55.0k [00:00<?, ?B/s]"
      ]
     },
     "metadata": {},
     "output_type": "display_data"
    },
    {
     "data": {
      "application/vnd.jupyter.widget-view+json": {
       "model_id": "362d5a0239604834ace02e7249f3b93c",
       "version_major": 2,
       "version_minor": 0
      },
      "text/plain": [
       "(…)ord_segment_10templates_validation.jsonl:   0%|          | 0.00/64.5k [00:00<?, ?B/s]"
      ]
     },
     "metadata": {},
     "output_type": "display_data"
    },
    {
     "data": {
      "application/vnd.jupyter.widget-view+json": {
       "model_id": "1fa42d6e1573492bb4c20f6618984db5",
       "version_major": 2,
       "version_minor": 0
      },
      "text/plain": [
       "trivia_qa_10templates_validation.jsonl:   0%|          | 0.00/35.8k [00:00<?, ?B/s]"
      ]
     },
     "metadata": {},
     "output_type": "display_data"
    },
    {
     "data": {
      "application/vnd.jupyter.widget-view+json": {
       "model_id": "47a522d2faf04bfeb237a127e93eace5",
       "version_major": 2,
       "version_minor": 0
      },
      "text/plain": [
       "wnli_10templates_validation.jsonl:   0%|          | 0.00/8.30k [00:00<?, ?B/s]"
      ]
     },
     "metadata": {},
     "output_type": "display_data"
    },
    {
     "data": {
      "application/vnd.jupyter.widget-view+json": {
       "model_id": "94106fe5f5b24b80bd6e952d2dda7197",
       "version_major": 2,
       "version_minor": 0
      },
      "text/plain": [
       "wmt14_enfr_10templates_validation.jsonl:   0%|          | 0.00/66.3k [00:00<?, ?B/s]"
      ]
     },
     "metadata": {},
     "output_type": "display_data"
    },
    {
     "data": {
      "application/vnd.jupyter.widget-view+json": {
       "model_id": "c9f27d1573524ae68b141c37eccf9eb7",
       "version_major": 2,
       "version_minor": 0
      },
      "text/plain": [
       "wsc_10templates_validation.jsonl:   0%|          | 0.00/13.6k [00:00<?, ?B/s]"
      ]
     },
     "metadata": {},
     "output_type": "display_data"
    },
    {
     "data": {
      "application/vnd.jupyter.widget-view+json": {
       "model_id": "f715b863f109484f96a67c78fa1f1759",
       "version_major": 2,
       "version_minor": 0
      },
      "text/plain": [
       "(…)ity_reviews_10templates_validation.jsonl:   0%|          | 0.00/172k [00:00<?, ?B/s]"
      ]
     },
     "metadata": {},
     "output_type": "display_data"
    },
    {
     "data": {
      "application/vnd.jupyter.widget-view+json": {
       "model_id": "7bde44755f76438cbd5c2e51352a9c38",
       "version_major": 2,
       "version_minor": 0
      },
      "text/plain": [
       "Downloading data:   0%|          | 0/66 [00:00<?, ?files/s]"
      ]
     },
     "metadata": {},
     "output_type": "display_data"
    },
    {
     "data": {
      "application/vnd.jupyter.widget-view+json": {
       "model_id": "935bc195131a46dc843172ee70c5ccfa",
       "version_major": 2,
       "version_minor": 0
      },
      "text/plain": [
       "cola_10templates_test.jsonl:   0%|          | 0.00/228k [00:00<?, ?B/s]"
      ]
     },
     "metadata": {},
     "output_type": "display_data"
    },
    {
     "data": {
      "application/vnd.jupyter.widget-view+json": {
       "model_id": "0b48b12a91a7464294d9c5dae9c5f95e",
       "version_major": 2,
       "version_minor": 0
      },
      "text/plain": [
       "common_gen_10templates_test.jsonl:   0%|          | 0.00/205k [00:00<?, ?B/s]"
      ]
     },
     "metadata": {},
     "output_type": "display_data"
    },
    {
     "data": {
      "application/vnd.jupyter.widget-view+json": {
       "model_id": "4a13f3ab1be146779cbbdbb9fbef92f2",
       "version_major": 2,
       "version_minor": 0
      },
      "text/plain": [
       "arc_challenge_10templates_test.jsonl:   0%|          | 0.00/419k [00:00<?, ?B/s]"
      ]
     },
     "metadata": {},
     "output_type": "display_data"
    },
    {
     "data": {
      "application/vnd.jupyter.widget-view+json": {
       "model_id": "a4a92d50965c417cb9a17ca372c149fe",
       "version_major": 2,
       "version_minor": 0
      },
      "text/plain": [
       "anli_r2_10templates_test.jsonl:   0%|          | 0.00/574k [00:00<?, ?B/s]"
      ]
     },
     "metadata": {},
     "output_type": "display_data"
    },
    {
     "data": {
      "application/vnd.jupyter.widget-view+json": {
       "model_id": "ec3aba7df21946378bf3124d503d54c1",
       "version_major": 2,
       "version_minor": 0
      },
      "text/plain": [
       "cnn_dailymail_10templates_test.jsonl:   0%|          | 0.00/50.9M [00:00<?, ?B/s]"
      ]
     },
     "metadata": {},
     "output_type": "display_data"
    },
    {
     "data": {
      "application/vnd.jupyter.widget-view+json": {
       "model_id": "388f75197a784ad596edde6f4ff13825",
       "version_major": 2,
       "version_minor": 0
      },
      "text/plain": [
       "aeslc_10templates_test.jsonl:   0%|          | 0.00/1.57M [00:00<?, ?B/s]"
      ]
     },
     "metadata": {},
     "output_type": "display_data"
    },
    {
     "data": {
      "application/vnd.jupyter.widget-view+json": {
       "model_id": "a6e5032e457b434f931a3e4d45b0cd91",
       "version_major": 2,
       "version_minor": 0
      },
      "text/plain": [
       "anli_r1_10templates_test.jsonl:   0%|          | 0.00/573k [00:00<?, ?B/s]"
      ]
     },
     "metadata": {},
     "output_type": "display_data"
    },
    {
     "data": {
      "application/vnd.jupyter.widget-view+json": {
       "model_id": "d3bffc5e46e9403e87eb9d2821ab0cec",
       "version_major": 2,
       "version_minor": 0
      },
      "text/plain": [
       "arc_easy_10templates_test.jsonl:   0%|          | 0.00/739k [00:00<?, ?B/s]"
      ]
     },
     "metadata": {},
     "output_type": "display_data"
    },
    {
     "data": {
      "application/vnd.jupyter.widget-view+json": {
       "model_id": "2fd4347169334544a0a379832b14d1fb",
       "version_major": 2,
       "version_minor": 0
      },
      "text/plain": [
       "anli_r3_10templates_test.jsonl:   0%|          | 0.00/665k [00:00<?, ?B/s]"
      ]
     },
     "metadata": {},
     "output_type": "display_data"
    },
    {
     "data": {
      "application/vnd.jupyter.widget-view+json": {
       "model_id": "0184a98e8ca44501875337518d7330c0",
       "version_major": 2,
       "version_minor": 0
      },
      "text/plain": [
       "cosmos_qa_10templates_test.jsonl:   0%|          | 0.00/2.08M [00:00<?, ?B/s]"
      ]
     },
     "metadata": {},
     "output_type": "display_data"
    },
    {
     "data": {
      "application/vnd.jupyter.widget-view+json": {
       "model_id": "a293a1cf3a284f18ad63c42b7cce0386",
       "version_major": 2,
       "version_minor": 0
      },
      "text/plain": [
       "dart_10templates_test.jsonl:   0%|          | 0.00/1.03M [00:00<?, ?B/s]"
      ]
     },
     "metadata": {},
     "output_type": "display_data"
    },
    {
     "data": {
      "application/vnd.jupyter.widget-view+json": {
       "model_id": "4299344644a84ddaa511c03f6a2afe4c",
       "version_major": 2,
       "version_minor": 0
      },
      "text/plain": [
       "bool_q_10templates_test.jsonl:   0%|          | 0.00/2.41M [00:00<?, ?B/s]"
      ]
     },
     "metadata": {},
     "output_type": "display_data"
    },
    {
     "data": {
      "application/vnd.jupyter.widget-view+json": {
       "model_id": "4cde0b5170204140bbb1c0571eb18f73",
       "version_major": 2,
       "version_minor": 0
      },
      "text/plain": [
       "coqa_10templates_test.jsonl:   0%|          | 0.00/1.23M [00:00<?, ?B/s]"
      ]
     },
     "metadata": {},
     "output_type": "display_data"
    },
    {
     "data": {
      "application/vnd.jupyter.widget-view+json": {
       "model_id": "46da5b93a6d34685bff12d95e3caa042",
       "version_major": 2,
       "version_minor": 0
      },
      "text/plain": [
       "copa_10templates_test.jsonl:   0%|          | 0.00/21.5k [00:00<?, ?B/s]"
      ]
     },
     "metadata": {},
     "output_type": "display_data"
    },
    {
     "data": {
      "application/vnd.jupyter.widget-view+json": {
       "model_id": "5e964f0e0e0140199a2063312c64d8d5",
       "version_major": 2,
       "version_minor": 0
      },
      "text/plain": [
       "ag_news_subset_10templates_test.jsonl:   0%|          | 0.00/2.78M [00:00<?, ?B/s]"
      ]
     },
     "metadata": {},
     "output_type": "display_data"
    },
    {
     "data": {
      "application/vnd.jupyter.widget-view+json": {
       "model_id": "a745e059e39c4ff5b53a3634d5c054c6",
       "version_major": 2,
       "version_minor": 0
      },
      "text/plain": [
       "cb_10templates_test.jsonl:   0%|          | 0.00/27.5k [00:00<?, ?B/s]"
      ]
     },
     "metadata": {},
     "output_type": "display_data"
    },
    {
     "data": {
      "application/vnd.jupyter.widget-view+json": {
       "model_id": "720c483e5a7d470ca7e6f17dbcad4a7a",
       "version_major": 2,
       "version_minor": 0
      },
      "text/plain": [
       "drop_10templates_test.jsonl:   0%|          | 0.00/11.6M [00:00<?, ?B/s]"
      ]
     },
     "metadata": {},
     "output_type": "display_data"
    },
    {
     "data": {
      "application/vnd.jupyter.widget-view+json": {
       "model_id": "7526ae4c13754dc288047dcb3d11dcdc",
       "version_major": 2,
       "version_minor": 0
      },
      "text/plain": [
       "(…)ronoun_resolution_10templates_test.jsonl:   0%|          | 0.00/139k [00:00<?, ?B/s]"
      ]
     },
     "metadata": {},
     "output_type": "display_data"
    },
    {
     "data": {
      "application/vnd.jupyter.widget-view+json": {
       "model_id": "bb6611f261474b079190c5a1ea6b50f4",
       "version_major": 2,
       "version_minor": 0
      },
      "text/plain": [
       "e2e_nlg_10templates_test.jsonl:   0%|          | 0.00/1.65M [00:00<?, ?B/s]"
      ]
     },
     "metadata": {},
     "output_type": "display_data"
    },
    {
     "data": {
      "application/vnd.jupyter.widget-view+json": {
       "model_id": "123957762911444099d3c1953624ea2f",
       "version_major": 2,
       "version_minor": 0
      },
      "text/plain": [
       "imdb_reviews_10templates_test.jsonl:   0%|          | 0.00/35.6M [00:00<?, ?B/s]"
      ]
     },
     "metadata": {},
     "output_type": "display_data"
    },
    {
     "data": {
      "application/vnd.jupyter.widget-view+json": {
       "model_id": "1485908cee144c5195301dc18fd36cca",
       "version_major": 2,
       "version_minor": 0
      },
      "text/plain": [
       "gigaword_10templates_test.jsonl:   0%|          | 0.00/240k [00:00<?, ?B/s]"
      ]
     },
     "metadata": {},
     "output_type": "display_data"
    },
    {
     "data": {
      "application/vnd.jupyter.widget-view+json": {
       "model_id": "6416c28a18af40abbf9b10fce3eed405",
       "version_major": 2,
       "version_minor": 0
      },
      "text/plain": [
       "glue_qqp_10templates_test.jsonl:   0%|          | 0.00/10.8M [00:00<?, ?B/s]"
      ]
     },
     "metadata": {},
     "output_type": "display_data"
    },
    {
     "data": {
      "application/vnd.jupyter.widget-view+json": {
       "model_id": "ceac43a679f84d598ab64ceefa4dc550",
       "version_major": 2,
       "version_minor": 0
      },
      "text/plain": [
       "fix_punct_10templates_test.jsonl:   0%|          | 0.00/981k [00:00<?, ?B/s]"
      ]
     },
     "metadata": {},
     "output_type": "display_data"
    },
    {
     "data": {
      "application/vnd.jupyter.widget-view+json": {
       "model_id": "8c6db34da28a46b3aea81e4e34894cd0",
       "version_major": 2,
       "version_minor": 0
      },
      "text/plain": [
       "hellaswag_10templates_test.jsonl:   0%|          | 0.00/10.2M [00:00<?, ?B/s]"
      ]
     },
     "metadata": {},
     "output_type": "display_data"
    },
    {
     "data": {
      "application/vnd.jupyter.widget-view+json": {
       "model_id": "dec8a05454a444138e11f43d3de33b18",
       "version_major": 2,
       "version_minor": 0
      },
      "text/plain": [
       "glue_mrpc_10templates_test.jsonl:   0%|          | 0.00/154k [00:00<?, ?B/s]"
      ]
     },
     "metadata": {},
     "output_type": "display_data"
    },
    {
     "data": {
      "application/vnd.jupyter.widget-view+json": {
       "model_id": "8df45e3e234c42ccb4a3a0e41b43989e",
       "version_major": 2,
       "version_minor": 0
      },
      "text/plain": [
       "mnli_matched_10templates_test.jsonl:   0%|          | 0.00/3.65M [00:00<?, ?B/s]"
      ]
     },
     "metadata": {},
     "output_type": "display_data"
    },
    {
     "data": {
      "application/vnd.jupyter.widget-view+json": {
       "model_id": "028e142d03664c5c9e9486ab80f4235f",
       "version_major": 2,
       "version_minor": 0
      },
      "text/plain": [
       "mnli_mismatched_10templates_test.jsonl:   0%|          | 0.00/3.80M [00:00<?, ?B/s]"
      ]
     },
     "metadata": {},
     "output_type": "display_data"
    },
    {
     "data": {
      "application/vnd.jupyter.widget-view+json": {
       "model_id": "eebebafdfe4341e682bf09f391a59b68",
       "version_major": 2,
       "version_minor": 0
      },
      "text/plain": [
       "math_dataset_10templates_test.jsonl:   0%|          | 0.00/1.36M [00:00<?, ?B/s]"
      ]
     },
     "metadata": {},
     "output_type": "display_data"
    },
    {
     "data": {
      "application/vnd.jupyter.widget-view+json": {
       "model_id": "99c3a8edc847450dbab9f59b89e69256",
       "version_major": 2,
       "version_minor": 0
      },
      "text/plain": [
       "multi_news_10templates_test.jsonl:   0%|          | 0.00/72.4M [00:00<?, ?B/s]"
      ]
     },
     "metadata": {},
     "output_type": "display_data"
    },
    {
     "data": {
      "application/vnd.jupyter.widget-view+json": {
       "model_id": "8f1f1b5fdd2b46bfb4de35baffadaac3",
       "version_major": 2,
       "version_minor": 0
      },
      "text/plain": [
       "multirc_10templates_test.jsonl:   0%|          | 0.00/8.35M [00:00<?, ?B/s]"
      ]
     },
     "metadata": {},
     "output_type": "display_data"
    },
    {
     "data": {
      "application/vnd.jupyter.widget-view+json": {
       "model_id": "7d4624294184410b97c6f4f4fe64fc8d",
       "version_major": 2,
       "version_minor": 0
      },
      "text/plain": [
       "natural_questions_10templates_test.jsonl:   0%|          | 0.00/562k [00:00<?, ?B/s]"
      ]
     },
     "metadata": {},
     "output_type": "display_data"
    },
    {
     "data": {
      "application/vnd.jupyter.widget-view+json": {
       "model_id": "b678a30ebc87434aaae4a25bad023e2e",
       "version_major": 2,
       "version_minor": 0
      },
      "text/plain": [
       "(…)abstracts_idebate_10templates_test.jsonl:   0%|          | 0.00/512k [00:00<?, ?B/s]"
      ]
     },
     "metadata": {},
     "output_type": "display_data"
    },
    {
     "data": {
      "application/vnd.jupyter.widget-view+json": {
       "model_id": "551a7af6fc274235b170baa07123365a",
       "version_major": 2,
       "version_minor": 0
      },
      "text/plain": [
       "(…)s_rotten_tomatoes_10templates_test.jsonl:   0%|          | 0.00/635k [00:00<?, ?B/s]"
      ]
     },
     "metadata": {},
     "output_type": "display_data"
    },
    {
     "data": {
      "application/vnd.jupyter.widget-view+json": {
       "model_id": "f22273191fdf4f9796c27ada85982304",
       "version_major": 2,
       "version_minor": 0
      },
      "text/plain": [
       "openbookqa_10templates_test.jsonl:   0%|          | 0.00/142k [00:00<?, ?B/s]"
      ]
     },
     "metadata": {},
     "output_type": "display_data"
    },
    {
     "data": {
      "application/vnd.jupyter.widget-view+json": {
       "model_id": "b8e98fc43b8243f88c075711d77c5dc1",
       "version_major": 2,
       "version_minor": 0
      },
      "text/plain": [
       "para_crawl_enes_10templates_test.jsonl:   0%|          | 0.00/353k [00:00<?, ?B/s]"
      ]
     },
     "metadata": {},
     "output_type": "display_data"
    },
    {
     "data": {
      "application/vnd.jupyter.widget-view+json": {
       "model_id": "542a536c0d564a4a9d8c2f6028cdeceb",
       "version_major": 2,
       "version_minor": 0
      },
      "text/plain": [
       "paws_wiki_10templates_test.jsonl:   0%|          | 0.00/2.96M [00:00<?, ?B/s]"
      ]
     },
     "metadata": {},
     "output_type": "display_data"
    },
    {
     "data": {
      "application/vnd.jupyter.widget-view+json": {
       "model_id": "c1168bca8bcc4dc1a73e363d8c694e4f",
       "version_major": 2,
       "version_minor": 0
      },
      "text/plain": [
       "piqa_10templates_test.jsonl:   0%|          | 0.00/760k [00:00<?, ?B/s]"
      ]
     },
     "metadata": {},
     "output_type": "display_data"
    },
    {
     "data": {
      "application/vnd.jupyter.widget-view+json": {
       "model_id": "e7c66e7d665541599505ea0a5bbf0316",
       "version_major": 2,
       "version_minor": 0
      },
      "text/plain": [
       "quac_10templates_test.jsonl:   0%|          | 0.00/24.6M [00:00<?, ?B/s]"
      ]
     },
     "metadata": {},
     "output_type": "display_data"
    },
    {
     "data": {
      "application/vnd.jupyter.widget-view+json": {
       "model_id": "6efdd4b11be84eeeb5a73855cb5b616b",
       "version_major": 2,
       "version_minor": 0
      },
      "text/plain": [
       "qnli_10templates_test.jsonl:   0%|          | 0.00/1.90M [00:00<?, ?B/s]"
      ]
     },
     "metadata": {},
     "output_type": "display_data"
    },
    {
     "data": {
      "application/vnd.jupyter.widget-view+json": {
       "model_id": "74296718bfd54ca2a38374fb71c27789",
       "version_major": 2,
       "version_minor": 0
      },
      "text/plain": [
       "rte_10templates_test.jsonl:   0%|          | 0.00/122k [00:00<?, ?B/s]"
      ]
     },
     "metadata": {},
     "output_type": "display_data"
    },
    {
     "data": {
      "application/vnd.jupyter.widget-view+json": {
       "model_id": "68432c6deaae4d70836b10ee6851c9c0",
       "version_major": 2,
       "version_minor": 0
      },
      "text/plain": [
       "samsum_10templates_test.jsonl:   0%|          | 0.00/594k [00:00<?, ?B/s]"
      ]
     },
     "metadata": {},
     "output_type": "display_data"
    },
    {
     "data": {
      "application/vnd.jupyter.widget-view+json": {
       "model_id": "eecc4b8fc64747f8ac18712df6d1c24f",
       "version_major": 2,
       "version_minor": 0
      },
      "text/plain": [
       "sentiment140_10templates_test.jsonl:   0%|          | 0.00/106k [00:00<?, ?B/s]"
      ]
     },
     "metadata": {},
     "output_type": "display_data"
    },
    {
     "data": {
      "application/vnd.jupyter.widget-view+json": {
       "model_id": "e2a6ee454f014167a97b9a2032f10c36",
       "version_major": 2,
       "version_minor": 0
      },
      "text/plain": [
       "record_10templates_test.jsonl:   0%|          | 0.00/19.1M [00:00<?, ?B/s]"
      ]
     },
     "metadata": {},
     "output_type": "display_data"
    },
    {
     "data": {
      "application/vnd.jupyter.widget-view+json": {
       "model_id": "22d2a8065ddc4fc7afd4aab79436e9c3",
       "version_major": 2,
       "version_minor": 0
      },
      "text/plain": [
       "sst2_10templates_test.jsonl:   0%|          | 0.00/231k [00:00<?, ?B/s]"
      ]
     },
     "metadata": {},
     "output_type": "display_data"
    },
    {
     "data": {
      "application/vnd.jupyter.widget-view+json": {
       "model_id": "8475169234024887a87d38d0086ee665",
       "version_major": 2,
       "version_minor": 0
      },
      "text/plain": [
       "snli_10templates_test.jsonl:   0%|          | 0.00/2.71M [00:00<?, ?B/s]"
      ]
     },
     "metadata": {},
     "output_type": "display_data"
    },
    {
     "data": {
      "application/vnd.jupyter.widget-view+json": {
       "model_id": "15de4095f4464fe0b6387d43b60c97d8",
       "version_major": 2,
       "version_minor": 0
      },
      "text/plain": [
       "squad_v1_10templates_test.jsonl:   0%|          | 0.00/9.29M [00:00<?, ?B/s]"
      ]
     },
     "metadata": {},
     "output_type": "display_data"
    },
    {
     "data": {
      "application/vnd.jupyter.widget-view+json": {
       "model_id": "3ed625b00807469a801c64a2b8ed4b40",
       "version_major": 2,
       "version_minor": 0
      },
      "text/plain": [
       "story_cloze_10templates_test.jsonl:   0%|          | 0.00/774k [00:00<?, ?B/s]"
      ]
     },
     "metadata": {},
     "output_type": "display_data"
    },
    {
     "data": {
      "application/vnd.jupyter.widget-view+json": {
       "model_id": "e7e20e2265a84dd69dba1d541e5cde03",
       "version_major": 2,
       "version_minor": 0
      },
      "text/plain": [
       "trec_10templates_test.jsonl:   0%|          | 0.00/130k [00:00<?, ?B/s]"
      ]
     },
     "metadata": {},
     "output_type": "display_data"
    },
    {
     "data": {
      "application/vnd.jupyter.widget-view+json": {
       "model_id": "ac6718a8211a46e0be70d6cd18d3fd64",
       "version_major": 2,
       "version_minor": 0
      },
      "text/plain": [
       "stsb_10templates_test.jsonl:   0%|          | 0.00/539k [00:00<?, ?B/s]"
      ]
     },
     "metadata": {},
     "output_type": "display_data"
    },
    {
     "data": {
      "application/vnd.jupyter.widget-view+json": {
       "model_id": "b0aa869d37e34f5d824761aa69fc88f2",
       "version_major": 2,
       "version_minor": 0
      },
      "text/plain": [
       "trivia_qa_10templates_test.jsonl:   0%|          | 0.00/3.25M [00:00<?, ?B/s]"
      ]
     },
     "metadata": {},
     "output_type": "display_data"
    },
    {
     "data": {
      "application/vnd.jupyter.widget-view+json": {
       "model_id": "2d4e542db929400aa4025d94483c000f",
       "version_major": 2,
       "version_minor": 0
      },
      "text/plain": [
       "true_case_10templates_test.jsonl:   0%|          | 0.00/1.02M [00:00<?, ?B/s]"
      ]
     },
     "metadata": {},
     "output_type": "display_data"
    },
    {
     "data": {
      "application/vnd.jupyter.widget-view+json": {
       "model_id": "1587fdb3f1fe433f8098c3bc87f27897",
       "version_major": 2,
       "version_minor": 0
      },
      "text/plain": [
       "squad_v2_10templates_test.jsonl:   0%|          | 0.00/12.4M [00:00<?, ?B/s]"
      ]
     },
     "metadata": {},
     "output_type": "display_data"
    },
    {
     "data": {
      "application/vnd.jupyter.widget-view+json": {
       "model_id": "67308b1d385e4474bda60ed511d46446",
       "version_major": 2,
       "version_minor": 0
      },
      "text/plain": [
       "web_nlg_en_10templates_test.jsonl:   0%|          | 0.00/622k [00:00<?, ?B/s]"
      ]
     },
     "metadata": {},
     "output_type": "display_data"
    },
    {
     "data": {
      "application/vnd.jupyter.widget-view+json": {
       "model_id": "e4b9d2dd84b9457689b4c371761c3529",
       "version_major": 2,
       "version_minor": 0
      },
      "text/plain": [
       "(…)lingua_english_en_10templates_test.jsonl:   0%|          | 0.00/69.1M [00:00<?, ?B/s]"
      ]
     },
     "metadata": {},
     "output_type": "display_data"
    },
    {
     "data": {
      "application/vnd.jupyter.widget-view+json": {
       "model_id": "fefeb33cb6b14045813ec31a20709ca8",
       "version_major": 2,
       "version_minor": 0
      },
      "text/plain": [
       "wic_10templates_test.jsonl:   0%|          | 0.00/182k [00:00<?, ?B/s]"
      ]
     },
     "metadata": {},
     "output_type": "display_data"
    },
    {
     "data": {
      "application/vnd.jupyter.widget-view+json": {
       "model_id": "96218d5cf6ac4a6ba5c812bcca3543ba",
       "version_major": 2,
       "version_minor": 0
      },
      "text/plain": [
       "(…)16_translate_deen_10templates_test.jsonl:   0%|          | 0.00/979k [00:00<?, ?B/s]"
      ]
     },
     "metadata": {},
     "output_type": "display_data"
    },
    {
     "data": {
      "application/vnd.jupyter.widget-view+json": {
       "model_id": "f19dbcd0b6454cc7a4610b604037f3a0",
       "version_major": 2,
       "version_minor": 0
      },
      "text/plain": [
       "(…)16_translate_csen_10templates_test.jsonl:   0%|          | 0.00/1.06M [00:00<?, ?B/s]"
      ]
     },
     "metadata": {},
     "output_type": "display_data"
    },
    {
     "data": {
      "application/vnd.jupyter.widget-view+json": {
       "model_id": "3c4eb06c86884489a660af61947e81f7",
       "version_major": 2,
       "version_minor": 0
      },
      "text/plain": [
       "wmt14_enfr_10templates_test.jsonl:   0%|          | 0.00/1.09M [00:00<?, ?B/s]"
      ]
     },
     "metadata": {},
     "output_type": "display_data"
    },
    {
     "data": {
      "application/vnd.jupyter.widget-view+json": {
       "model_id": "771e49cea72242ab8c5fa44971471afd",
       "version_major": 2,
       "version_minor": 0
      },
      "text/plain": [
       "(…)16_translate_fien_10templates_test.jsonl:   0%|          | 0.00/1.97M [00:00<?, ?B/s]"
      ]
     },
     "metadata": {},
     "output_type": "display_data"
    },
    {
     "data": {
      "application/vnd.jupyter.widget-view+json": {
       "model_id": "9e92183c178a4decaf77242df8c4d9da",
       "version_major": 2,
       "version_minor": 0
      },
      "text/plain": [
       "(…)16_translate_roen_10templates_test.jsonl:   0%|          | 0.00/730k [00:00<?, ?B/s]"
      ]
     },
     "metadata": {},
     "output_type": "display_data"
    },
    {
     "data": {
      "application/vnd.jupyter.widget-view+json": {
       "model_id": "73b15957c0f54e9291dd8549b6a18c7c",
       "version_major": 2,
       "version_minor": 0
      },
      "text/plain": [
       "(…)16_translate_ruen_10templates_test.jsonl:   0%|          | 0.00/2.46M [00:00<?, ?B/s]"
      ]
     },
     "metadata": {},
     "output_type": "display_data"
    },
    {
     "data": {
      "application/vnd.jupyter.widget-view+json": {
       "model_id": "4f78c523e19e4c21a313b404380222cd",
       "version_major": 2,
       "version_minor": 0
      },
      "text/plain": [
       "wnli_10templates_test.jsonl:   0%|          | 0.00/19.8k [00:00<?, ?B/s]"
      ]
     },
     "metadata": {},
     "output_type": "display_data"
    },
    {
     "data": {
      "application/vnd.jupyter.widget-view+json": {
       "model_id": "b5aeb895b0484e5caa47e40a9e6e5fba",
       "version_major": 2,
       "version_minor": 0
      },
      "text/plain": [
       "(…)16_translate_tren_10templates_test.jsonl:   0%|          | 0.00/1.08M [00:00<?, ?B/s]"
      ]
     },
     "metadata": {},
     "output_type": "display_data"
    },
    {
     "data": {
      "application/vnd.jupyter.widget-view+json": {
       "model_id": "b7b35bf57d604ec190998c8197d9a998",
       "version_major": 2,
       "version_minor": 0
      },
      "text/plain": [
       "word_segment_10templates_test.jsonl:   0%|          | 0.00/986k [00:00<?, ?B/s]"
      ]
     },
     "metadata": {},
     "output_type": "display_data"
    },
    {
     "data": {
      "application/vnd.jupyter.widget-view+json": {
       "model_id": "aad56f2ba0114e209f33dc4fb09b9ea7",
       "version_major": 2,
       "version_minor": 0
      },
      "text/plain": [
       "(…)_polarity_reviews_10templates_test.jsonl:   0%|          | 0.00/33.1M [00:00<?, ?B/s]"
      ]
     },
     "metadata": {},
     "output_type": "display_data"
    },
    {
     "data": {
      "application/vnd.jupyter.widget-view+json": {
       "model_id": "0bbd767d37674c739a8c0728d7a42079",
       "version_major": 2,
       "version_minor": 0
      },
      "text/plain": [
       "wsc_10templates_test.jsonl:   0%|          | 0.00/31.0k [00:00<?, ?B/s]"
      ]
     },
     "metadata": {},
     "output_type": "display_data"
    },
    {
     "data": {
      "application/vnd.jupyter.widget-view+json": {
       "model_id": "da592b4b8b9046f7bf30d10bc86234e6",
       "version_major": 2,
       "version_minor": 0
      },
      "text/plain": [
       "Generating train split:   0%|          | 0/2772100 [00:00<?, ? examples/s]"
      ]
     },
     "metadata": {},
     "output_type": "display_data"
    },
    {
     "data": {
      "application/vnd.jupyter.widget-view+json": {
       "model_id": "16cc299104574f66b111803b2f238d7d",
       "version_major": 2,
       "version_minor": 0
      },
      "text/plain": [
       "Generating validation split:   0%|          | 0/23860 [00:00<?, ? examples/s]"
      ]
     },
     "metadata": {},
     "output_type": "display_data"
    },
    {
     "data": {
      "application/vnd.jupyter.widget-view+json": {
       "model_id": "e03ab9a276bc4ab59637fc4966066219",
       "version_major": 2,
       "version_minor": 0
      },
      "text/plain": [
       "Generating test split:   0%|          | 0/734380 [00:00<?, ? examples/s]"
      ]
     },
     "metadata": {},
     "output_type": "display_data"
    },
    {
     "data": {
      "application/vnd.jupyter.widget-view+json": {
       "model_id": "4f26b64d7335473cb988b457b46aad50",
       "version_major": 2,
       "version_minor": 0
      },
      "text/plain": [
       "Creating json from Arrow format:   0%|          | 0/14 [00:00<?, ?ba/s]"
      ]
     },
     "metadata": {},
     "output_type": "display_data"
    },
    {
     "name": "stdout",
     "output_type": "stream",
     "text": [
      "Saved 13860 samples (1%) of Muennighoff/flan/train to ./data.jsonl\n"
     ]
    }
   ],
   "source": [
    "import argparse\n",
    "import random\n",
    "from datasets import load_dataset\n",
    "\n",
    "# Load dataset\n",
    "dataset = load_dataset(\"Muennighoff/flan\", split='train',\n",
    "    verification_mode=\"no_checks\")\n",
    "\n",
    "# Shuffle for randomness\n",
    "dataset = dataset.shuffle(seed=42)\n",
    "\n",
    "# Calculate number of samples\n",
    "n_samples = int(len(dataset) * (1 / 100.0))\n",
    "subset = dataset.select(range(n_samples))\n",
    "\n",
    "# Save as JSONL\n",
    "subset.to_json('./data.jsonl', orient=\"records\", lines=True, force_ascii=False)\n",
    "print(f\"Saved {n_samples} samples ({1}%) of Muennighoff/flan/train to ./data.jsonl\")"
   ]
  }
 ],
 "metadata": {
  "kernelspec": {
   "display_name": "lora_retriever",
   "language": "python",
   "name": "python3"
  },
  "language_info": {
   "codemirror_mode": {
    "name": "ipython",
    "version": 3
   },
   "file_extension": ".py",
   "mimetype": "text/x-python",
   "name": "python",
   "nbconvert_exporter": "python",
   "pygments_lexer": "ipython3",
   "version": "3.10.18"
  }
 },
 "nbformat": 4,
 "nbformat_minor": 5
}
